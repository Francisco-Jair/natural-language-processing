{
 "cells": [
  {
   "cell_type": "markdown",
   "metadata": {},
   "source": [
    "## Capitulo 1"
   ]
  },
  {
   "cell_type": "markdown",
   "metadata": {},
   "source": [
    "#### Questão 4\n",
    "##### Review 1 on computing with language. How many words are there in text2? How many distinct words are there?"
   ]
  },
  {
   "cell_type": "code",
   "execution_count": 1,
   "metadata": {},
   "outputs": [],
   "source": [
    "import nltk"
   ]
  },
  {
   "cell_type": "code",
   "execution_count": null,
   "metadata": {},
   "outputs": [
    {
     "name": "stdout",
     "output_type": "stream",
     "text": [
      "showing info https://raw.githubusercontent.com/nltk/nltk_data/gh-pages/index.xml\n"
     ]
    }
   ],
   "source": [
    "nltk.download()"
   ]
  },
  {
   "cell_type": "code",
   "execution_count": 4,
   "metadata": {},
   "outputs": [],
   "source": [
    "from nltk.book import text2"
   ]
  },
  {
   "cell_type": "code",
   "execution_count": 5,
   "metadata": {},
   "outputs": [
    {
     "name": "stdout",
     "output_type": "stream",
     "text": [
      "Quantidade total de palavras: 141576\n"
     ]
    }
   ],
   "source": [
    "print(f\"Quantidade total de palavras: {len(text2)}\")"
   ]
  },
  {
   "cell_type": "code",
   "execution_count": 6,
   "metadata": {},
   "outputs": [
    {
     "name": "stdout",
     "output_type": "stream",
     "text": [
      "Quantidade de palavras sem repetição: 6833\n"
     ]
    }
   ],
   "source": [
    "print(f'Quantidade de palavras sem repetição: {len(set(text2))}')"
   ]
  },
  {
   "cell_type": "code",
   "execution_count": null,
   "metadata": {},
   "outputs": [],
   "source": []
  },
  {
   "cell_type": "markdown",
   "metadata": {},
   "source": [
    "#### Questão 6\n",
    "##### Produce a dispersion plot of the four main protagonists in Sense and Sensibility: Elinor, Marianne, Edward, and Willoughby. What can you observe about the different roles played by the males and females in this novel? Can you identify the couples?"
   ]
  },
  {
   "cell_type": "code",
   "execution_count": 7,
   "metadata": {
    "scrolled": true
   },
   "outputs": [
    {
     "data": {
      "image/png": "[encoded data removed]",
      "text/plain": [
       "<Figure size 432x288 with 1 Axes>"
      ]
     },
     "metadata": {
      "needs_background": "light"
     },
     "output_type": "display_data"
    }
   ],
   "source": [
    "text2.dispersion_plot([\"Elinor\", \"Marianne\", \"Edward\", \"Willoughby\"])"
   ]
  },
  {
   "cell_type": "markdown",
   "metadata": {},
   "source": [
    "###### No gráfico podemos ver que as mulheres são mais participativas na historia do que os homens. Não conseguimos indentificar quais são so casais pelo gráfico."
   ]
  },
  {
   "cell_type": "code",
   "execution_count": null,
   "metadata": {},
   "outputs": [],
   "source": []
  },
  {
   "cell_type": "markdown",
   "metadata": {},
   "source": [
    "#### Questão 7\n",
    "##### Find the collocations in text5."
   ]
  },
  {
   "cell_type": "code",
   "execution_count": 8,
   "metadata": {},
   "outputs": [],
   "source": [
    "from nltk.book import text5"
   ]
  },
  {
   "cell_type": "code",
   "execution_count": 9,
   "metadata": {},
   "outputs": [
    {
     "name": "stdout",
     "output_type": "stream",
     "text": [
      "wanna chat; PART JOIN; MODE #14-19teens; JOIN PART; PART PART;\n",
      "cute.-ass MP3; MP3 player; JOIN JOIN; times .. .; ACTION watches; guys\n",
      "wanna; song lasts; last night; ACTION sits; -...)...- S.M.R.; Lime\n",
      "Player; Player 12%; dont know; lez gurls; long time\n",
      "None\n"
     ]
    }
   ],
   "source": [
    "print(text5.collocations())"
   ]
  },
  {
   "cell_type": "code",
   "execution_count": null,
   "metadata": {},
   "outputs": [],
   "source": []
  },
  {
   "cell_type": "markdown",
   "metadata": {},
   "source": [
    "#### Questão 9\n",
    "##### Review 2 on lists and strings."
   ]
  },
  {
   "cell_type": "markdown",
   "metadata": {},
   "source": [
    "##### Letra A"
   ]
  },
  {
   "cell_type": "code",
   "execution_count": 10,
   "metadata": {},
   "outputs": [],
   "source": [
    "my_string = \"A vida só pode ser compreendida olhando para trás, mas só pode ser vivida olhando para frente\""
   ]
  },
  {
   "cell_type": "code",
   "execution_count": 11,
   "metadata": {},
   "outputs": [
    {
     "name": "stdout",
     "output_type": "stream",
     "text": [
      "A vida só pode ser compreendida olhando para trás, mas só pode ser vivida olhando para frente\n"
     ]
    }
   ],
   "source": [
    "print(my_string)"
   ]
  },
  {
   "cell_type": "markdown",
   "metadata": {},
   "source": [
    "##### Letra B"
   ]
  },
  {
   "cell_type": "code",
   "execution_count": 12,
   "metadata": {},
   "outputs": [
    {
     "name": "stdout",
     "output_type": "stream",
     "text": [
      "A vida só pode ser compreendida olhando para trás, mas só pode ser vivida olhando para frenteA vida só pode ser compreendida olhando para trás, mas só pode ser vivida olhando para frente\n"
     ]
    }
   ],
   "source": [
    "my_string = my_string + my_string\n",
    "print(my_string)"
   ]
  },
  {
   "cell_type": "markdown",
   "metadata": {},
   "source": [
    "Resolveria fazendo my_string = my_string + \" \" + my_string"
   ]
  },
  {
   "cell_type": "code",
   "execution_count": null,
   "metadata": {},
   "outputs": [],
   "source": []
  },
  {
   "cell_type": "markdown",
   "metadata": {},
   "source": [
    "#### Questão 10\n",
    "##### Define a variable my_sent to be a list of words, using the syntax my_sent = [\"My\", \"sent\"] (but with your own words, or a favorite saying).\n",
    "##### A"
   ]
  },
  {
   "cell_type": "code",
   "execution_count": 13,
   "metadata": {},
   "outputs": [],
   "source": [
    "my_sent = [\"Oi\", \",\", \"Eu\", \"sou\", \"o\", \"Goku\", \"!\"]"
   ]
  },
  {
   "cell_type": "code",
   "execution_count": 14,
   "metadata": {},
   "outputs": [],
   "source": [
    "my_string = \" \".join(my_sent)"
   ]
  },
  {
   "cell_type": "code",
   "execution_count": 15,
   "metadata": {},
   "outputs": [
    {
     "name": "stdout",
     "output_type": "stream",
     "text": [
      "Oi , Eu sou o Goku !\n"
     ]
    }
   ],
   "source": [
    "print(my_string)"
   ]
  },
  {
   "cell_type": "markdown",
   "metadata": {},
   "source": [
    "##### B"
   ]
  },
  {
   "cell_type": "code",
   "execution_count": 16,
   "metadata": {},
   "outputs": [],
   "source": [
    "my_sent1 = my_string.split()"
   ]
  },
  {
   "cell_type": "code",
   "execution_count": 17,
   "metadata": {},
   "outputs": [
    {
     "name": "stdout",
     "output_type": "stream",
     "text": [
      "['Oi', ',', 'Eu', 'sou', 'o', 'Goku', '!']\n"
     ]
    }
   ],
   "source": [
    "print(my_sent1)"
   ]
  },
  {
   "cell_type": "code",
   "execution_count": null,
   "metadata": {},
   "outputs": [],
   "source": []
  },
  {
   "cell_type": "markdown",
   "metadata": {},
   "source": [
    "#### Questão 15\n",
    "##### Review the discussion of conditionals in 4. Find all words in the Chat Corpus (text5) starting with the letter b. Show them in alphabetical order."
   ]
  },
  {
   "cell_type": "code",
   "execution_count": 19,
   "metadata": {},
   "outputs": [],
   "source": [
    "list_word = sorted([w for w in text5 if w.startswith('b')])"
   ]
  },
  {
   "cell_type": "code",
   "execution_count": 24,
   "metadata": {
    "scrolled": false
   },
   "outputs": [
    {
     "data": {
      "text/plain": [
       "['b',\n",
       " 'b',\n",
       " 'b',\n",
       " 'b',\n",
       " 'b',\n",
       " 'b',\n",
       " 'b-day',\n",
       " 'b/c',\n",
       " 'b4',\n",
       " 'b4',\n",
       " 'babay',\n",
       " 'babble',\n",
       " 'babblein',\n",
       " 'babe',\n",
       " 'babe',\n",
       " 'babe',\n",
       " 'babe',\n",
       " 'babe',\n",
       " 'babe',\n",
       " 'babe',\n",
       " 'babe',\n",
       " 'babe',\n",
       " 'babe',\n",
       " 'babe',\n",
       " 'babes',\n",
       " 'babes',\n",
       " 'babes',\n",
       " 'babi',\n",
       " 'babi',\n",
       " 'babies',\n",
       " 'babies',\n",
       " 'babiess',\n",
       " 'baby',\n",
       " 'baby',\n",
       " 'baby',\n",
       " 'baby',\n",
       " 'baby',\n",
       " 'baby',\n",
       " 'baby',\n",
       " 'baby',\n",
       " 'baby',\n",
       " 'baby',\n",
       " 'baby',\n",
       " 'baby',\n",
       " 'baby',\n",
       " 'baby',\n",
       " 'baby',\n",
       " 'baby',\n",
       " 'baby',\n",
       " 'baby',\n",
       " 'baby',\n",
       " 'baby',\n",
       " 'baby',\n",
       " 'baby',\n",
       " 'baby',\n",
       " 'baby',\n",
       " 'baby',\n",
       " 'baby',\n",
       " 'babycakeses',\n",
       " 'bachelorette',\n",
       " 'back',\n",
       " 'back',\n",
       " 'back',\n",
       " 'back',\n",
       " 'back',\n",
       " 'back',\n",
       " 'back',\n",
       " 'back',\n",
       " 'back',\n",
       " 'back',\n",
       " 'back',\n",
       " 'back',\n",
       " 'back',\n",
       " 'back',\n",
       " 'back',\n",
       " 'back',\n",
       " 'back',\n",
       " 'back',\n",
       " 'back',\n",
       " 'back',\n",
       " 'back',\n",
       " 'back',\n",
       " 'back',\n",
       " 'back',\n",
       " 'back',\n",
       " 'back',\n",
       " 'back',\n",
       " 'back',\n",
       " 'back',\n",
       " 'back',\n",
       " 'back',\n",
       " 'back',\n",
       " 'back',\n",
       " 'back',\n",
       " 'back',\n",
       " 'back',\n",
       " 'back',\n",
       " 'back',\n",
       " 'back',\n",
       " 'back',\n",
       " 'back',\n",
       " 'back',\n",
       " 'back',\n",
       " 'back',\n",
       " 'back',\n",
       " 'back',\n",
       " 'back',\n",
       " 'back',\n",
       " 'back',\n",
       " 'back',\n",
       " 'back',\n",
       " 'back',\n",
       " 'back',\n",
       " 'back',\n",
       " 'back',\n",
       " 'back',\n",
       " 'back',\n",
       " 'back',\n",
       " 'back',\n",
       " 'back',\n",
       " 'back',\n",
       " 'back',\n",
       " 'back',\n",
       " 'back',\n",
       " 'back',\n",
       " 'back',\n",
       " 'back',\n",
       " 'back',\n",
       " 'back',\n",
       " 'back',\n",
       " 'back',\n",
       " 'back',\n",
       " 'back',\n",
       " 'back',\n",
       " 'back',\n",
       " 'back',\n",
       " 'back',\n",
       " 'back',\n",
       " 'backatchya',\n",
       " 'backfrontsidewaysandallaroundtheworld',\n",
       " 'backroom',\n",
       " 'backup',\n",
       " 'bacl',\n",
       " 'bad',\n",
       " 'bad',\n",
       " 'bad',\n",
       " 'bad',\n",
       " 'bad',\n",
       " 'bad',\n",
       " 'bad',\n",
       " 'bad',\n",
       " 'bad',\n",
       " 'bad',\n",
       " 'bad',\n",
       " 'bad',\n",
       " 'bad',\n",
       " 'bad',\n",
       " 'bad',\n",
       " 'bad',\n",
       " 'bad',\n",
       " 'bad',\n",
       " 'bad',\n",
       " 'bad',\n",
       " 'bad',\n",
       " 'bad',\n",
       " 'bad',\n",
       " 'bad',\n",
       " 'bad',\n",
       " 'bad',\n",
       " 'bag',\n",
       " 'bag',\n",
       " 'bag',\n",
       " 'bagel',\n",
       " 'bagels',\n",
       " 'bahahahaa',\n",
       " 'bak',\n",
       " 'baked',\n",
       " 'balad',\n",
       " 'balance',\n",
       " 'balck',\n",
       " 'balck',\n",
       " 'ball',\n",
       " 'ball',\n",
       " 'ball',\n",
       " 'ball',\n",
       " 'ball',\n",
       " 'ball',\n",
       " 'ballin',\n",
       " 'balls',\n",
       " 'balls',\n",
       " 'ban',\n",
       " 'ban',\n",
       " 'ban',\n",
       " 'band',\n",
       " 'band',\n",
       " 'band',\n",
       " 'bandito',\n",
       " 'bandsaw',\n",
       " 'banjoes',\n",
       " 'banned',\n",
       " 'banned',\n",
       " 'baord',\n",
       " 'bar',\n",
       " 'bar',\n",
       " 'bar',\n",
       " 'bar',\n",
       " 'bar',\n",
       " 'bar',\n",
       " 'barbie',\n",
       " 'barbie',\n",
       " 'barbie',\n",
       " 'barbie',\n",
       " 'bare',\n",
       " 'bare',\n",
       " 'bare',\n",
       " 'barely',\n",
       " 'bares',\n",
       " 'barfights',\n",
       " 'barks',\n",
       " 'barn',\n",
       " 'barrel',\n",
       " 'base',\n",
       " 'bases',\n",
       " 'basically',\n",
       " 'basket',\n",
       " 'basket',\n",
       " 'battery',\n",
       " 'battery',\n",
       " 'bay',\n",
       " 'bay',\n",
       " 'bbbbbyyyyyyyeeeeeeeee',\n",
       " 'bbiam',\n",
       " 'bbl',\n",
       " 'bbl',\n",
       " 'bbl',\n",
       " 'bbl',\n",
       " 'bbl',\n",
       " 'bbl',\n",
       " 'bbs',\n",
       " 'bbs',\n",
       " 'bbs',\n",
       " 'bc',\n",
       " 'be',\n",
       " 'be',\n",
       " 'be',\n",
       " 'be',\n",
       " 'be',\n",
       " 'be',\n",
       " 'be',\n",
       " 'be',\n",
       " 'be',\n",
       " 'be',\n",
       " 'be',\n",
       " 'be',\n",
       " 'be',\n",
       " 'be',\n",
       " 'be',\n",
       " 'be',\n",
       " 'be',\n",
       " 'be',\n",
       " 'be',\n",
       " 'be',\n",
       " 'be',\n",
       " 'be',\n",
       " 'be',\n",
       " 'be',\n",
       " 'be',\n",
       " 'be',\n",
       " 'be',\n",
       " 'be',\n",
       " 'be',\n",
       " 'be',\n",
       " 'be',\n",
       " 'be',\n",
       " 'be',\n",
       " 'be',\n",
       " 'be',\n",
       " 'be',\n",
       " 'be',\n",
       " 'be',\n",
       " 'be',\n",
       " 'be',\n",
       " 'be',\n",
       " 'be',\n",
       " 'be',\n",
       " 'be',\n",
       " 'be',\n",
       " 'be',\n",
       " 'be',\n",
       " 'be',\n",
       " 'be',\n",
       " 'be',\n",
       " 'be',\n",
       " 'be',\n",
       " 'be',\n",
       " 'be',\n",
       " 'be',\n",
       " 'be',\n",
       " 'be',\n",
       " 'be',\n",
       " 'be',\n",
       " 'be',\n",
       " 'be',\n",
       " 'be',\n",
       " 'be',\n",
       " 'be',\n",
       " 'be',\n",
       " 'be',\n",
       " 'be',\n",
       " 'be',\n",
       " 'be',\n",
       " 'be',\n",
       " 'be',\n",
       " 'be',\n",
       " 'be',\n",
       " 'be',\n",
       " 'be',\n",
       " 'be',\n",
       " 'be',\n",
       " 'be',\n",
       " 'be',\n",
       " 'be',\n",
       " 'be',\n",
       " 'be',\n",
       " 'be',\n",
       " 'be',\n",
       " 'be',\n",
       " 'be',\n",
       " 'be',\n",
       " 'be',\n",
       " 'be',\n",
       " 'be',\n",
       " 'be',\n",
       " 'be',\n",
       " 'be',\n",
       " 'be',\n",
       " 'be',\n",
       " 'be',\n",
       " 'be',\n",
       " 'be',\n",
       " 'be',\n",
       " 'be',\n",
       " 'be',\n",
       " 'be',\n",
       " 'be',\n",
       " 'be',\n",
       " 'be',\n",
       " 'be',\n",
       " 'be',\n",
       " 'beach',\n",
       " 'beach',\n",
       " 'beach',\n",
       " 'beach',\n",
       " 'beach',\n",
       " 'beach',\n",
       " 'beach',\n",
       " 'beachhhh',\n",
       " 'beam',\n",
       " 'beams',\n",
       " 'beanbag',\n",
       " 'beanbag',\n",
       " 'beanbag',\n",
       " 'beans',\n",
       " 'bear',\n",
       " 'bear',\n",
       " 'bears',\n",
       " 'bears',\n",
       " 'bears',\n",
       " 'beat',\n",
       " 'beat',\n",
       " 'beat',\n",
       " 'beat',\n",
       " 'beaten',\n",
       " 'beaten',\n",
       " 'beatles',\n",
       " 'beats',\n",
       " 'beattles',\n",
       " 'beattles',\n",
       " 'beautiful',\n",
       " 'beautiful',\n",
       " 'because',\n",
       " 'because',\n",
       " 'because',\n",
       " 'because',\n",
       " 'because',\n",
       " 'because',\n",
       " 'because',\n",
       " 'because',\n",
       " 'because',\n",
       " 'because',\n",
       " 'because',\n",
       " 'because',\n",
       " 'because',\n",
       " 'beckley',\n",
       " 'become',\n",
       " 'become',\n",
       " 'become',\n",
       " 'bed',\n",
       " 'bed',\n",
       " 'bed',\n",
       " 'bed',\n",
       " 'bed',\n",
       " 'bed',\n",
       " 'bed',\n",
       " 'bed',\n",
       " 'bedford',\n",
       " 'bedroom',\n",
       " 'beeeeehave',\n",
       " 'beeehave',\n",
       " 'been',\n",
       " 'been',\n",
       " 'been',\n",
       " 'been',\n",
       " 'been',\n",
       " 'been',\n",
       " 'been',\n",
       " 'been',\n",
       " 'been',\n",
       " 'been',\n",
       " 'been',\n",
       " 'been',\n",
       " 'been',\n",
       " 'been',\n",
       " 'been',\n",
       " 'been',\n",
       " 'been',\n",
       " 'been',\n",
       " 'been',\n",
       " 'been',\n",
       " 'been',\n",
       " 'been',\n",
       " 'been',\n",
       " 'been',\n",
       " 'been',\n",
       " 'been',\n",
       " 'been',\n",
       " 'been',\n",
       " 'been',\n",
       " 'been',\n",
       " 'been',\n",
       " 'been',\n",
       " 'been',\n",
       " 'been',\n",
       " 'been',\n",
       " 'been',\n",
       " 'been',\n",
       " 'been',\n",
       " 'been',\n",
       " 'been',\n",
       " 'been',\n",
       " 'been',\n",
       " 'been',\n",
       " 'been',\n",
       " 'been',\n",
       " 'been',\n",
       " 'been',\n",
       " 'been',\n",
       " 'been',\n",
       " 'been',\n",
       " 'been',\n",
       " 'been',\n",
       " 'been',\n",
       " 'been',\n",
       " 'been',\n",
       " 'been',\n",
       " 'been',\n",
       " 'beer',\n",
       " 'beer',\n",
       " 'beer',\n",
       " 'beer',\n",
       " 'beer',\n",
       " 'before',\n",
       " 'before',\n",
       " 'before',\n",
       " 'before',\n",
       " 'before',\n",
       " 'before',\n",
       " 'before',\n",
       " 'before',\n",
       " 'before',\n",
       " 'before',\n",
       " 'before',\n",
       " 'before',\n",
       " 'before',\n",
       " 'beg',\n",
       " 'begin',\n",
       " 'behave',\n",
       " 'behave',\n",
       " 'behind',\n",
       " 'behind',\n",
       " 'behind',\n",
       " 'behind',\n",
       " 'bein',\n",
       " 'being',\n",
       " 'being',\n",
       " 'being',\n",
       " 'being',\n",
       " 'being',\n",
       " 'being',\n",
       " 'being',\n",
       " 'being',\n",
       " 'being',\n",
       " 'being',\n",
       " 'being',\n",
       " 'being',\n",
       " 'beleive',\n",
       " 'believe',\n",
       " 'believe',\n",
       " 'believe',\n",
       " 'believe',\n",
       " 'believe',\n",
       " 'believe',\n",
       " 'belive',\n",
       " 'bell',\n",
       " 'belly',\n",
       " 'belly',\n",
       " 'belong',\n",
       " 'belong',\n",
       " 'belongings',\n",
       " 'ben',\n",
       " 'bend',\n",
       " 'bend',\n",
       " 'bend',\n",
       " 'benz',\n",
       " 'bes',\n",
       " 'beside',\n",
       " 'besides',\n",
       " 'besides',\n",
       " 'besides',\n",
       " 'best',\n",
       " 'best',\n",
       " 'best',\n",
       " 'best',\n",
       " 'best',\n",
       " 'best',\n",
       " 'best',\n",
       " 'best',\n",
       " 'best',\n",
       " 'bet',\n",
       " 'bet',\n",
       " 'bet',\n",
       " 'bet',\n",
       " 'bet',\n",
       " 'bet',\n",
       " 'bet',\n",
       " 'bet',\n",
       " 'betrayal',\n",
       " 'betta',\n",
       " 'better',\n",
       " 'better',\n",
       " 'better',\n",
       " 'better',\n",
       " 'better',\n",
       " 'better',\n",
       " 'better',\n",
       " 'better',\n",
       " 'better',\n",
       " 'better',\n",
       " 'better',\n",
       " 'better',\n",
       " 'better',\n",
       " 'better',\n",
       " 'better',\n",
       " 'better',\n",
       " 'better',\n",
       " 'better',\n",
       " 'better',\n",
       " 'better',\n",
       " 'better',\n",
       " 'better',\n",
       " 'better',\n",
       " 'between',\n",
       " 'between',\n",
       " 'between',\n",
       " 'between',\n",
       " 'beuty',\n",
       " 'bf',\n",
       " 'bf',\n",
       " 'bi',\n",
       " 'bi',\n",
       " 'bi',\n",
       " 'bi',\n",
       " 'bi',\n",
       " 'bi',\n",
       " 'bi',\n",
       " 'bi',\n",
       " 'bi',\n",
       " 'bi',\n",
       " 'biatch',\n",
       " 'biatch',\n",
       " 'bible',\n",
       " 'bible',\n",
       " 'bible',\n",
       " 'biebsa',\n",
       " 'bied',\n",
       " 'big',\n",
       " 'big',\n",
       " 'big',\n",
       " 'big',\n",
       " 'big',\n",
       " 'big',\n",
       " 'big',\n",
       " 'big',\n",
       " 'big',\n",
       " 'big',\n",
       " 'big',\n",
       " 'big',\n",
       " 'bigest',\n",
       " 'biggest',\n",
       " 'biiiatch',\n",
       " 'bike',\n",
       " 'bikes',\n",
       " 'bikini',\n",
       " 'bio',\n",
       " 'bird',\n",
       " 'birfday',\n",
       " 'birthday',\n",
       " 'birthday',\n",
       " 'bisexual',\n",
       " 'bishes',\n",
       " 'bit',\n",
       " 'bit',\n",
       " 'bit',\n",
       " 'bit',\n",
       " 'bit',\n",
       " 'bit',\n",
       " 'bit',\n",
       " 'bit',\n",
       " 'bit',\n",
       " 'bit',\n",
       " 'bit',\n",
       " 'bit',\n",
       " 'bitch',\n",
       " 'bitch',\n",
       " 'bitch',\n",
       " 'bitch',\n",
       " 'bitches',\n",
       " 'bitches',\n",
       " 'bitches',\n",
       " 'bitdh',\n",
       " 'bite',\n",
       " 'bite',\n",
       " 'bites',\n",
       " 'bites',\n",
       " 'biyatch',\n",
       " 'biz',\n",
       " 'biz',\n",
       " 'bj',\n",
       " 'black',\n",
       " 'black',\n",
       " 'black',\n",
       " 'black',\n",
       " 'black',\n",
       " 'black',\n",
       " 'black',\n",
       " 'black',\n",
       " 'blade',\n",
       " 'blade',\n",
       " 'blah',\n",
       " 'blah',\n",
       " 'blah',\n",
       " 'blah',\n",
       " 'blah',\n",
       " 'blah',\n",
       " 'blank',\n",
       " 'blank',\n",
       " 'blank',\n",
       " 'blank',\n",
       " 'blankie',\n",
       " 'blankie',\n",
       " 'blazed',\n",
       " 'bleach',\n",
       " 'blech',\n",
       " 'bless',\n",
       " 'blessings',\n",
       " 'blew',\n",
       " 'blew',\n",
       " 'blind',\n",
       " 'blind',\n",
       " 'blind',\n",
       " 'blinks',\n",
       " 'bliss',\n",
       " 'blocking',\n",
       " 'bloe',\n",
       " 'blood',\n",
       " 'blood',\n",
       " 'blood',\n",
       " 'blood',\n",
       " 'blood',\n",
       " 'blooded',\n",
       " 'bloody',\n",
       " 'blow',\n",
       " 'blowing',\n",
       " 'blowjob',\n",
       " 'blowup',\n",
       " 'blue',\n",
       " 'blue',\n",
       " 'blue',\n",
       " 'blue',\n",
       " 'blue',\n",
       " 'blue',\n",
       " 'blue',\n",
       " 'blue',\n",
       " 'blueberry',\n",
       " 'bluer',\n",
       " 'blues',\n",
       " 'blunt',\n",
       " 'board',\n",
       " 'board',\n",
       " 'bob',\n",
       " 'bob',\n",
       " 'bodies',\n",
       " 'bodies',\n",
       " 'body',\n",
       " 'boed',\n",
       " 'boght',\n",
       " 'boi',\n",
       " 'boing',\n",
       " 'boinked',\n",
       " 'bois',\n",
       " 'bomb',\n",
       " 'bone',\n",
       " 'boned',\n",
       " 'bones',\n",
       " 'bones',\n",
       " 'bong',\n",
       " 'boning',\n",
       " 'bonus',\n",
       " 'boo',\n",
       " 'boo',\n",
       " 'boo',\n",
       " 'boo',\n",
       " 'boo',\n",
       " 'booboo',\n",
       " 'boobs',\n",
       " 'boobs',\n",
       " 'book',\n",
       " 'book',\n",
       " 'book',\n",
       " 'book',\n",
       " 'book',\n",
       " 'book',\n",
       " 'book',\n",
       " 'book',\n",
       " 'book',\n",
       " 'boom',\n",
       " 'boooooooooooglyyyyyy',\n",
       " 'boost',\n",
       " 'boot',\n",
       " 'bootay',\n",
       " 'booted',\n",
       " 'booted',\n",
       " 'booted',\n",
       " 'boots',\n",
       " 'boots',\n",
       " 'booty',\n",
       " 'border',\n",
       " 'borderline',\n",
       " 'bored',\n",
       " 'bored',\n",
       " 'bored',\n",
       " 'bored',\n",
       " 'bored',\n",
       " 'bored',\n",
       " 'bored',\n",
       " 'bored',\n",
       " 'bored',\n",
       " 'bored',\n",
       " 'bored',\n",
       " 'bored',\n",
       " 'bored',\n",
       " 'bored',\n",
       " 'bored',\n",
       " 'bored',\n",
       " 'bored',\n",
       " 'bored',\n",
       " 'bored',\n",
       " 'bored',\n",
       " 'boredom',\n",
       " 'boring',\n",
       " 'boring',\n",
       " 'boring',\n",
       " 'boring',\n",
       " 'boring',\n",
       " 'boring',\n",
       " 'boring',\n",
       " 'born',\n",
       " 'born',\n",
       " 'born-again',\n",
       " 'born-again',\n",
       " 'bosom',\n",
       " 'boss',\n",
       " 'boss',\n",
       " 'boss',\n",
       " 'boss',\n",
       " 'boss',\n",
       " 'bossy',\n",
       " 'bot',\n",
       " 'bot',\n",
       " 'bot',\n",
       " 'bot',\n",
       " 'bot',\n",
       " 'bot',\n",
       " 'bot',\n",
       " 'bot',\n",
       " 'bot',\n",
       " 'bot',\n",
       " 'both',\n",
       " 'both',\n",
       " 'both',\n",
       " 'both',\n",
       " 'both',\n",
       " 'bother',\n",
       " 'bothering',\n",
       " 'bottle',\n",
       " 'bottle',\n",
       " 'bottle',\n",
       " 'bottle',\n",
       " 'bottle',\n",
       " 'bought',\n",
       " 'bounced',\n",
       " 'bouncer',\n",
       " 'bouncers',\n",
       " 'bound',\n",
       " 'bout',\n",
       " 'bout',\n",
       " 'bout',\n",
       " 'bout',\n",
       " 'bout',\n",
       " 'bout',\n",
       " 'bout',\n",
       " 'bout',\n",
       " 'bout',\n",
       " 'bout',\n",
       " 'bout',\n",
       " 'bout',\n",
       " 'bouts',\n",
       " 'bouts',\n",
       " 'bow',\n",
       " 'bowl',\n",
       " 'box',\n",
       " 'box',\n",
       " 'box',\n",
       " 'box',\n",
       " 'boy',\n",
       " 'boy',\n",
       " 'boy',\n",
       " 'boy',\n",
       " 'boy',\n",
       " 'boy',\n",
       " 'boy',\n",
       " 'boy',\n",
       " 'boy',\n",
       " 'boy',\n",
       " 'boy',\n",
       " 'boy',\n",
       " 'boy',\n",
       " 'boyfriend',\n",
       " 'boys',\n",
       " 'boys',\n",
       " 'boys',\n",
       " 'boys',\n",
       " 'boys',\n",
       " 'bra',\n",
       " 'brad',\n",
       " 'brady',\n",
       " 'brain',\n",
       " 'brain',\n",
       " 'brakes',\n",
       " 'brass',\n",
       " 'brat',\n",
       " 'brb',\n",
       " 'brb',\n",
       " 'brb',\n",
       " 'brb',\n",
       " 'brb',\n",
       " 'brb',\n",
       " 'brb',\n",
       " 'brb',\n",
       " 'brb',\n",
       " 'brb',\n",
       " 'brb',\n",
       " 'brb',\n",
       " 'brb',\n",
       " 'brb',\n",
       " 'brb',\n",
       " 'brb',\n",
       " 'brb',\n",
       " 'brb',\n",
       " 'brb',\n",
       " 'brb',\n",
       " 'brb',\n",
       " 'brb',\n",
       " 'brb',\n",
       " 'brb',\n",
       " 'brb',\n",
       " 'brb',\n",
       " 'brb',\n",
       " 'brb',\n",
       " 'brb',\n",
       " 'brb',\n",
       " 'brb',\n",
       " 'brb',\n",
       " 'brb',\n",
       " 'brbbb',\n",
       " 'bread',\n",
       " 'bread',\n",
       " 'break',\n",
       " 'break',\n",
       " 'breaks',\n",
       " 'breath',\n",
       " 'breath',\n",
       " 'breathe',\n",
       " 'breathe',\n",
       " 'bred',\n",
       " 'breeding',\n",
       " 'bright',\n",
       " 'brightened',\n",
       " 'bring',\n",
       " 'bring',\n",
       " 'bring',\n",
       " 'bring',\n",
       " 'brings',\n",
       " 'bro',\n",
       " 'bro',\n",
       " 'bro',\n",
       " 'broke',\n",
       " 'broke',\n",
       " 'broke',\n",
       " 'broke',\n",
       " 'broke',\n",
       " 'broke',\n",
       " 'brooklyn',\n",
       " 'brother',\n",
       " 'brothers',\n",
       " 'brought',\n",
       " 'brought',\n",
       " 'brown',\n",
       " 'brown',\n",
       " 'brrrrrrr',\n",
       " 'bruises',\n",
       " 'bruises',\n",
       " 'brunswick',\n",
       " 'brwn',\n",
       " 'btw',\n",
       " 'bucks',\n",
       " 'buddyyyyyy',\n",
       " 'buff',\n",
       " 'buffalo',\n",
       " 'bug',\n",
       " 'bug',\n",
       " 'bugs',\n",
       " 'buh',\n",
       " 'buh',\n",
       " 'build',\n",
       " 'build',\n",
       " 'builds',\n",
       " 'built',\n",
       " 'bull',\n",
       " 'bulls',\n",
       " 'bum',\n",
       " 'bum',\n",
       " 'bumber',\n",
       " 'bummer',\n",
       " 'bumped',\n",
       " 'bumper',\n",
       " 'bunch',\n",
       " 'bunny',\n",
       " 'burger',\n",
       " 'burito',\n",
       " 'burned',\n",
       " 'burns',\n",
       " 'burns',\n",
       " 'burns',\n",
       " 'burp',\n",
       " 'burp',\n",
       " 'burpin',\n",
       " 'burps',\n",
       " 'burps',\n",
       " 'burried',\n",
       " 'burryed',\n",
       " 'bus',\n",
       " 'bus',\n",
       " 'bus',\n",
       " 'bus',\n",
       " 'bus',\n",
       " 'buses',\n",
       " 'bust',\n",
       " 'busted',\n",
       " 'busy',\n",
       " 'busy',\n",
       " 'busy',\n",
       " 'busy',\n",
       " 'busy',\n",
       " 'busy',\n",
       " 'busy',\n",
       " 'busy',\n",
       " 'busy',\n",
       " 'busy',\n",
       " 'busy',\n",
       " ...]"
      ]
     },
     "execution_count": 24,
     "metadata": {},
     "output_type": "execute_result"
    }
   ],
   "source": [
    "list_word"
   ]
  },
  {
   "cell_type": "code",
   "execution_count": null,
   "metadata": {},
   "outputs": [],
   "source": []
  },
  {
   "cell_type": "markdown",
   "metadata": {},
   "source": [
    "#### Questão 19\n",
    "##### What is the difference between the following two lines? Which one will give a larger value? Will this be the case for other texts?"
   ]
  },
  {
   "cell_type": "code",
   "execution_count": 25,
   "metadata": {},
   "outputs": [],
   "source": [
    "from nltk.book import text1"
   ]
  },
  {
   "cell_type": "code",
   "execution_count": 28,
   "metadata": {},
   "outputs": [
    {
     "name": "stdout",
     "output_type": "stream",
     "text": [
      "17231\n"
     ]
    }
   ],
   "source": [
    "print(len(sorted(set(w.lower() for w in text1))))"
   ]
  },
  {
   "cell_type": "code",
   "execution_count": 29,
   "metadata": {},
   "outputs": [
    {
     "name": "stdout",
     "output_type": "stream",
     "text": [
      "19317\n"
     ]
    }
   ],
   "source": [
    "print(len(sorted(w.lower() for w in set(text1))))"
   ]
  },
  {
   "cell_type": "markdown",
   "metadata": {},
   "source": [
    "Os dois mostra somente as palavras de text1 sem repetição, mas no primeiro as palavras repetidas são eliminadas a medida que são inseridas, já na segunda as palavras repetidas são primeiro eliminadas para poder montar o conjunto."
   ]
  },
  {
   "cell_type": "code",
   "execution_count": null,
   "metadata": {},
   "outputs": [],
   "source": []
  },
  {
   "cell_type": "markdown",
   "metadata": {},
   "source": [
    "#### Questão 22\n",
    "##### Find all the four-letter words in the Chat Corpus (text5). With the help of a frequency distribution (FreqDist), show these words in decreasing order of frequency."
   ]
  },
  {
   "cell_type": "code",
   "execution_count": 30,
   "metadata": {},
   "outputs": [],
   "source": [
    "from nltk.probability import FreqDist"
   ]
  },
  {
   "cell_type": "code",
   "execution_count": 31,
   "metadata": {},
   "outputs": [],
   "source": [
    "list_word_len_four = [w for w in text5 if len(w) == 4]"
   ]
  },
  {
   "cell_type": "code",
   "execution_count": 32,
   "metadata": {},
   "outputs": [],
   "source": [
    "freq = FreqDist(list_word_len_four)"
   ]
  },
  {
   "cell_type": "code",
   "execution_count": 35,
   "metadata": {},
   "outputs": [
    {
     "data": {
      "image/png": "[encoded data removed]",
      "text/plain": [
       "<Figure size 432x288 with 1 Axes>"
      ]
     },
     "metadata": {
      "needs_background": "light"
     },
     "output_type": "display_data"
    },
    {
     "data": {
      "text/plain": [
       "<AxesSubplot:xlabel='Samples', ylabel='Counts'>"
      ]
     },
     "execution_count": 35,
     "metadata": {},
     "output_type": "execute_result"
    }
   ],
   "source": [
    "freq.plot() # Todas as palavras"
   ]
  },
  {
   "cell_type": "code",
   "execution_count": 36,
   "metadata": {},
   "outputs": [
    {
     "data": {
      "image/png": "[encoded data removed]",
      "text/plain": [
       "<Figure size 432x288 with 1 Axes>"
      ]
     },
     "metadata": {
      "needs_background": "light"
     },
     "output_type": "display_data"
    },
    {
     "data": {
      "text/plain": [
       "<AxesSubplot:xlabel='Samples', ylabel='Counts'>"
      ]
     },
     "execution_count": 36,
     "metadata": {},
     "output_type": "execute_result"
    }
   ],
   "source": [
    "freq.plot(50) # 50 palavras mais frequentes"
   ]
  },
  {
   "cell_type": "code",
   "execution_count": null,
   "metadata": {},
   "outputs": [],
   "source": []
  },
  {
   "cell_type": "markdown",
   "metadata": {},
   "source": [
    "#### Questão 24\n",
    "##### Write expressions for finding all words in text6 that meet the conditions listed below. The result should be in the form of a list of words: ['word1', 'word2', ...].\n",
    "\n",
    "##### A"
   ]
  },
  {
   "cell_type": "code",
   "execution_count": 37,
   "metadata": {},
   "outputs": [],
   "source": [
    "from nltk.book import text6"
   ]
  },
  {
   "cell_type": "code",
   "execution_count": 38,
   "metadata": {},
   "outputs": [],
   "source": [
    "ending_ise = [w for w in text6 if w.endswith('ise')]"
   ]
  },
  {
   "cell_type": "code",
   "execution_count": 39,
   "metadata": {},
   "outputs": [
    {
     "name": "stdout",
     "output_type": "stream",
     "text": [
      "['wise', 'wise', 'apologise', 'surprise', 'surprise', 'surprise', 'noise', 'surprise']\n"
     ]
    }
   ],
   "source": [
    "print(ending_ise)"
   ]
  },
  {
   "cell_type": "markdown",
   "metadata": {},
   "source": [
    "##### B"
   ]
  },
  {
   "cell_type": "code",
   "execution_count": 40,
   "metadata": {},
   "outputs": [],
   "source": [
    "containing_letter_z = [w for w in text6 if str(w).count('z') > 0]"
   ]
  },
  {
   "cell_type": "code",
   "execution_count": 41,
   "metadata": {},
   "outputs": [
    {
     "name": "stdout",
     "output_type": "stream",
     "text": [
      "['zone', 'amazes', 'Fetchez', 'Fetchez', 'zoop', 'zoo', 'zhiv', 'frozen', 'zoosh']\n"
     ]
    }
   ],
   "source": [
    "print(containing_letter_z)"
   ]
  },
  {
   "cell_type": "markdown",
   "metadata": {},
   "source": [
    "##### C"
   ]
  },
  {
   "cell_type": "code",
   "execution_count": 42,
   "metadata": {},
   "outputs": [],
   "source": [
    "containing_letter_pt = [w for w in text6 if str(w).count('pt') > 0]"
   ]
  },
  {
   "cell_type": "code",
   "execution_count": 43,
   "metadata": {},
   "outputs": [
    {
     "name": "stdout",
     "output_type": "stream",
     "text": [
      "['empty', 'aptly', 'Thpppppt', 'Thppt', 'Thppt', 'empty', 'Thppppt', 'temptress', 'temptation', 'ptoo', 'Chapter', 'excepting', 'Thpppt']\n"
     ]
    }
   ],
   "source": [
    "print(containing_letter_pt)"
   ]
  },
  {
   "cell_type": "markdown",
   "metadata": {},
   "source": [
    "##### D"
   ]
  },
  {
   "cell_type": "code",
   "execution_count": 80,
   "metadata": {},
   "outputs": [],
   "source": [
    "containing_capitalize = [w for w in text6 if w[0].isupper() and not w.isupper() ]"
   ]
  },
  {
   "cell_type": "code",
   "execution_count": 81,
   "metadata": {},
   "outputs": [
    {
     "name": "stdout",
     "output_type": "stream",
     "text": [
      "['Whoa', 'Halt', 'Who', 'It', 'Arthur', 'Uther', 'Pendragon', 'Camelot', 'King', 'Britons', 'Saxons', 'England', 'Pull', 'Patsy', 'We', 'Camelot', 'What', 'Ridden', 'Yes', 'You', 'What', 'You', 'So', 'We', 'Mercea', 'Where', 'We', 'Found', 'In', 'Mercea', 'The', 'What', 'Well', 'The', 'Are', 'Not', 'They', 'What', 'It', 'It', 'It', 'Well', 'Will', 'Arthur', 'Court', 'Camelot', 'Listen', 'In', 'Please', 'Am', 'It', 'African', 'Oh', 'African', 'European', 'That', 'Oh', 'Will', 'Camelot', 'But', 'African', 'Oh', 'So', 'Wait', 'Supposing', 'No', 'Well', 'They', 'What', 'Well', 'Bring', 'Bring', 'Bring', 'Bring', 'Bring', 'Bring', 'Bring', 'Bring', 'Ninepence', 'Bring', 'Bring', 'Bring', 'Bring', 'Here', 'Ninepence', 'What', 'Nothing', 'Here', 'Ere', 'He', 'Yes', 'He', 'Well', 'He', 'No', 'You', 'Oh', 'It', 'Oh', 'Well', 'Well', 'He', 'No', 'Robinson', 'They', 'Well', 'Thursday', 'You', 'Look', 'Ah', 'Not', 'See', 'Thursday', 'Right', 'All', 'Who', 'Must', 'Why', 'He', 'King', 'Arthur', 'King', 'Arthur', 'Old', 'Man', 'Man', 'Sorry', 'What', 'Well', 'Man', 'Well', 'Dennis', 'Well', 'Dennis', 'Well', 'What', 'Well', 'Oh', 'And', 'By', 'By', 'If', 'Dennis', 'Oh', 'How', 'How', 'Arthur', 'King', 'Britons', 'Who', 'King', 'The', 'Britons', 'Who', 'Britons', 'Well', 'We', 'Britons', 'You', 'We', 'Oh', 'That', 'If', 'Please', 'Who', 'No', 'Then', 'We', 'What', 'We', 'We', 'Yes', 'But', 'Yes', 'By', 'Be', 'But', 'Be', 'Order', 'Who', 'Heh', 'Well', 'You', 'Well', 'The', 'Lady', 'Lake', 'Excalibur', 'Divine', 'Providence', 'Arthur', 'Excalibur', 'That', 'Listen', 'Supreme', 'Be', 'Well', 'Shut', 'Shut', 'Shut', 'Ah', 'Shut', 'Oh', 'Come', 'Help', 'Bloody', 'Oh', 'Did', 'Did', 'That', 'Did', 'You', 'King', 'Arthur', 'Aaagh', 'King', 'Arthur', 'Aaagh', 'Ooh', 'King', 'Arthur', 'Aagh', 'Oh', 'King', 'Arthur', 'Ooh', 'Aaagh', 'Agh', 'Aaaaaah', 'Aaaaaaaaah', 'Umm', 'You', 'Sir', 'Knight', 'Arthur', 'King', 'Britons', 'Camelot', 'You', 'Will', 'You', 'So', 'Come', 'Patsy', 'None', 'What', 'None', 'Sir', 'Knight', 'Then', 'King', 'Britons', 'So', 'Aaah', 'Now', 'Tis', 'Your', 'No', 'Well', 'You', 'Come', 'Huyah', 'Hiyaah', 'Aaaaaaaah', 'Victory', 'We', 'Thee', 'Lord', 'Thy', 'Hah', 'Come', 'What', 'Have', 'Eh', 'You', 'Sir', 'Knight', 'Oh', 'Look', 'You', 'Yes', 'Look', 'Just', 'Look', 'Chicken', 'Chickennn', 'Look', 'Right', 'Right', 'You', 'Come', 'What', 'You', 'The', 'Black', 'Knight', 'Have', 'Come', 'Ooh', 'All', 'Come', 'Patsy', 'Oh', 'Oh', 'Running', 'You', 'Come', 'Pie', 'Iesu', 'Pie', 'Iesu', 'Pie', 'Iesu', 'Pie', 'Iesu', 'We', 'We', 'Burn', 'Burn', 'Burn', 'We', 'We', 'We', 'May', 'Burn', 'Burn', 'Burn', 'Burn', 'How', 'She', 'Right', 'Yeah', 'Yeah', 'Bring', 'Uh', 'They', 'Augh', 'We', 'And', 'It', 'Well', 'Well', 'The', 'And', 'Yeah', 'We', 'Right', 'Yeaaah', 'Yeaah', 'Did', 'No', 'No', 'No', 'No', 'No', 'No', 'Yes', 'Yes', 'Yes', 'Yeah', 'She', 'What', 'Well', 'Burn', 'Burn', 'Burn', 'Burn', 'Burn', 'Quiet', 'Quiet', 'Quiet', 'Quiet', 'There', 'Are', 'Ah', 'What', 'Tell', 'Tell', 'Tell', 'Burn', 'Burn', 'Burn', 'Burn', 'Burn', 'And', 'More', 'Shh', 'Wood', 'So', 'Good', 'Heh', 'Oh', 'Oh', 'So', 'Build', 'Ah', 'Oh', 'Oh', 'True', 'Uhh', 'Does', 'No', 'No', 'No', 'It', 'Throw', 'The', 'Throw', 'What', 'Bread', 'Apples', 'Uh', 'Cider', 'Uh', 'Cherries', 'Mud', 'Churches', 'Churches', 'Lead', 'Lead', 'Oooh', 'Exactly', 'So', 'If', 'And', 'Here', 'Use', 'We', 'Ohh', 'Ohh', 'Burn', 'Burn', 'Burn', 'Burn', 'Burn', 'Burn', 'Burn', 'Burn', 'Burn', 'Ahh', 'Ahh', 'Right', 'Remove', 'It', 'Burn', 'Burn', 'Burn', 'Burn', 'Burn', 'Burn', 'Who', 'Arthur', 'King', 'Britons', 'My', 'Good', 'Sir', 'Knight', 'Camelot', 'Round', 'Table', 'My', 'What', 'Bedevere', 'Then', 'Sir', 'Bedevere', 'Knight', 'Round', 'Table', 'The', 'Sir', 'Bedevere', 'King', 'Arthur', 'Sir', 'Lancelot', 'Brave', 'Sir', 'Gallahad', 'Pure', 'Sir', 'Robin', 'Sir', 'Lancelot', 'Dragon', 'Angnor', 'Chicken', 'Bristol', 'Battle', 'Badon', 'Hill', 'Sir', 'Not', 'Together', 'Knights', 'Round', 'Table', 'And', 'This', 'Sir', 'Bedevere', 'Explain', 'Oh', 'Look', 'Camelot', 'Camelot', 'Camelot', 'It', 'Shh', 'Knights', 'Let', 'Camelot', 'We', 'We', 'We', 'With', 'We', 'Camelot', 'We', 'We', 'Round', 'Table', 'Our', 'But', 'That', 'We', 'Camelot', 'We', 'In', 'Quite', 'Between', 'Clark', 'Gable', 'It', 'Camelot', 'Well', 'Camelot', 'It', 'Right', 'Right', 'Arthur', 'Arthur', 'King', 'Britons', 'Oh', 'One', 'Sorry', 'And', 'Every', 'What', 'Lord', 'Well', 'It', 'Psalms', 'Now', 'Yes', 'Lord', 'Right', 'Arthur', 'King', 'Britons', 'Knights', 'Round', 'Table', 'Good', 'Lord', 'Course', 'Behold', 'Arthur', 'Holy', 'Grail', 'Look', 'Arthur', 'That', 'Arthur', 'Holy', 'Grail', 'Lord', 'God', 'King', 'Arthur', 'Halt', 'Hallo', 'Hallo', 'Allo', 'Who', 'It', 'King', 'Arthur', 'Knights', 'Round', 'Table', 'Who', 'This', 'Guy', 'Loimbard', 'Go', 'God', 'If', 'Holy', 'Grail', 'Well', 'Uh', 'What', 'He', 'Are', 'Oh', 'Well', 'Of', 'You', 'English', 'Well', 'French', 'Why', 'What', 'England', 'Mind', 'If', 'Grail', 'You', 'English', 'Go', 'Arthur', 'King', 'English', 'Thpppppt', 'Thppt', 'Thppt', 'What', 'Now', 'You', 'Is', 'No', 'Now', 'Fetchez', 'Quoi', 'Fetchez', 'If', 'Jesus', 'Christ', 'Christ', 'Ah', 'Ohh', 'Right', 'Charge', 'Charge', 'Hey', 'There', 'And', 'Run', 'Run', 'Thppppt', 'Fiends', 'No', 'No', 'Sir', 'Quoi', 'Un', 'What', 'Oh', 'Oui', 'Hurry', 'What', 'Let', 'Oh', 'On', 'Bon', 'Over', 'What', 'Well', 'Launcelot', 'Galahad', 'French', 'Not', 'Who', 'Launcelot', 'Galahad', 'Uh', 'Ohh', 'Oh', 'Um', 'Run', 'Run', 'Run', 'Run', 'Run', 'Run', 'Run', 'Run', 'Oh', 'Haw', 'Haw', 'Picture', 'Schools', 'Action', 'Defeat', 'King', 'Arthur', 'The', 'French', 'Arthur', 'Holy', 'Grail', 'Arthur', 'Grail', 'Now', 'Launcelot', 'Aaaah', 'Frank', 'The', 'Tale', 'Sir', 'Robin', 'So', 'Sir', 'Robin', 'Ewing', 'Bravely', 'Sir', 'Robin', 'Camelot', 'He', 'Sir', 'Robin', 'He', 'Brave', 'Sir', 'Robin', 'He', 'Or', 'To', 'And', 'Sir', 'Robin', 'His', 'And', 'And', 'And', 'That', 'Heh', 'Looks', 'Anarcho', 'Oh', 'Dennis', 'We', 'Halt', 'Who', 'He', 'Sir', 'Robin', 'Sir', 'Robin', 'Shut', 'Um', 'What', 'To', 'Shut', 'Um', 'Sir', 'Knight', 'Ah', 'Knight', 'Round', 'Table', 'You', 'Knight', 'Round', 'Table', 'In', 'Shall', 'Oh', 'Well', 'Oh', 'Oh', 'Perhaps', 'And', 'Oh', 'Get', 'Oh', 'Yes', 'What', 'Yapping', 'You', 'You', 'What', 'You', 'Oh', 'Anyway', 'Well', 'Oh', 'Oh', 'All', 'All', 'We', 'Yes', 'Oh', 'All', 'All', 'Right', 'He', 'So', 'He', 'Brave', 'Sir', 'Robin', 'No', 'Bravely', 'When', 'No', 'Yes', 'Sir', 'Robin', 'And', 'He', 'All', 'Bravest', 'Sir', 'Robin', 'Pie', 'Iesu', 'Heh', 'Pie', 'Iesu', 'Wayy', 'Ho', 'Woa', 'Heh', 'Heh', 'Wayy', 'Wayy', 'Forgive', 'Oh', 'Oooo', 'The', 'Tale', 'Sir', 'Galahad', 'Open', 'Open', 'In', 'King', 'Arthur', 'Hello', 'Welcome', 'Sir', 'Knight', 'Welcome', 'Castle', 'Anthrax', 'The', 'Castle', 'Anthrax', 'Yes', 'Oh', 'Oh', 'You', 'Holy', 'Grail', 'The', 'The', 'Grail', 'It', 'Oh', 'Midget', 'Crapper', 'Yes', 'Zoot', 'Prepare', 'Oh', 'Thank', 'Thank', 'Thank', 'Thank', 'Thank', 'Away', 'The', 'Well', 'What', 'Sir', 'Galahad', 'Chaste', 'Mine', 'Zoot', 'Just', 'Zoot', 'Oh', 'Look', 'In', 'God', 'Grail', 'Oh', 'You', 'No', 'It', 'Sir', 'Galahad', 'You', 'Well', 'Oh', 'We', 'Oooh', 'It', 'We', 'Nay', 'Nay', 'Come', 'Come', 'You', 'Oh', 'No', 'Oh', 'No', 'Lie', 'Well', 'They', 'Uh', 'Oh', 'You', 'Doctor', 'Piglet', 'Doctor', 'Winston', 'Practice', 'Try', 'Are', 'We', 'There', 'Please', 'We', 'Look', 'This', 'Back', 'At', 'Torment', 'Grail', 'There', 'Hello', 'Oh', 'Hello', 'Hello', 'Hello', 'Hello', 'Hello', 'Hello', 'Hello', 'Hello', 'Hello', 'Hello', 'Hello', 'Hello', 'Hello', 'Hello', 'Hello', 'Hello', 'Hello', 'Hello', 'Hello', 'Hello', 'Hello', 'Hello', 'Hello', 'Zoot', 'No', 'Zoot', 'Dingo', 'Oh', 'Where', 'Grail', 'Oh', 'Oh', 'Bad', 'Zoot', 'Well', 'Oh', 'Zoot', 'She', 'It', 'It', 'Grail', 'Oh', 'Zoot', 'She', 'Do', 'We', 'It', 'At', 'Well', 'It', 'Get', 'Yes', 'Yes', 'Oh', 'Get', 'Oh', 'Zoot', 'Oh', 'And', 'Castle', 'Anthrax', 'You', 'You', 'And', 'And', 'And', 'And', 'And', 'Yes', 'There', 'And', 'The', 'The', 'Well', 'Sir', 'Galahad', 'Oh', 'Quick', 'What', 'Quick', 'Why', 'You', 'No', 'Silence', 'You', 'Come', 'We', 'Look', 'Come', 'Sir', 'Galahad', 'No', 'Look', 'Yes', 'Let', 'Yes', 'Let', 'No', 'Sir', 'Galahad', 'Come', 'No', 'Really', 'Honestly', 'Oh', 'Let', 'Yes', 'Let', 'No', 'Quick', 'Quick', 'Please', 'There', 'Yes', 'He', 'We', 'We', 'He', 'Oh', 'We', 'You', 'Yes', 'You', 'Look', 'No', 'Look', 'No', 'Holy', 'Grail', 'Come', 'Oh', 'No', 'It', 'No', 'Sir', 'Launcelot', 'Sir', 'Galahad', 'Grail', 'Meanwhile', 'King', 'Arthur', 'Sir', 'Bedevere', 'Oh', 'Get', 'Oh', 'On', 'Arthur', 'Heh', 'Hee', 'And', 'Grail', 'Ha', 'Heh', 'Ha', 'Ha', 'Where', 'Heh', 'Old', 'Hee', 'He', 'And', 'Grail', 'The', 'Grail', 'There', 'Gorge', 'Eternal', 'Peril', 'But', 'Grail', 'Where', 'Grail', 'Seek', 'Bridge', 'Death', 'The', 'Bridge', 'Death', 'Grail', 'Heh', 'Ha', 'Hee', 'Ni', 'Ni', 'Ni', 'Ni', 'Ni', 'Ni', 'Who', 'We', 'Knights', 'Who', 'Say', 'Ni', 'Ni', 'No', 'Not', 'Knights', 'Who', 'Say', 'Ni', 'The', 'Who', 'We', 'Ni', 'Peng', 'Neee', 'Neee', 'Those', 'The', 'Knights', 'Who', 'Say', 'Ni', 'Knights', 'Ni', 'Ni', 'Ni', 'Ni', 'Ni', 'Ni', 'Ni', 'Ow', 'Ow', 'Ow', 'Agh', 'We', 'Well', 'We', 'Ni', 'Ni', 'Ni', 'Ni', 'Ow', 'Oh', 'Please', 'No', 'We', 'You', 'Knights', 'Ni', 'One', 'Of', 'And', 'Yes', 'Now', 'Hmm', 'Oh', 'Great', 'Hm', 'Hmm', 'Hm', 'Hmm', 'Ohh', 'Ay', 'Thsss', 'Ayy', 'Thsss', 'Ayy', 'Stop', 'Stop', 'Ay', 'Stop', 'Look', 'Clear', 'Go', 'Go', 'Go', 'Go', 'And', 'Clear', 'Hah', 'Bloody', 'The', 'Tale', 'Sir', 'Launcelot', 'One', 'What', 'No', 'Not', 'All', 'This', 'But', 'Mother', 'Father', 'Father', 'Father', 'Listen', 'When', 'Other', 'It', 'So', 'That', 'So', 'That', 'But', 'And', 'But', 'Rather', 'Stop', 'Stop', 'You', 'Now', 'In', 'Britain', 'Listen', 'Alice', 'Herbert', 'Erbert', 'We', 'We', 'But', 'Don', 'What', 'She', 'She', 'She', 'Cut', 'Cut', 'Look', 'Princess', 'Lucky', 'Guards', 'Make', 'Prince', 'Not', 'Hic', 'No', 'Until', 'Until', 'No', 'No', 'You', 'And', 'Hic', 'Right', 'We', 'No', 'Leaving', 'Leaving', 'Yes', 'All', 'Right', 'Hic', 'Right', 'Oh', 'Yes', 'What', 'Oh', 'Look', 'Uh', 'You', 'Alright', 'Hic', 'Right', 'Oh', 'Uhh', 'No', 'You', 'Oh', 'We', 'But', 'No', 'Just', 'Until', 'No', 'Just', 'Just', 'Hic', 'Get', 'Get', 'All', 'Right', 'We', 'Hic', 'And', 'What', 'Make', 'The', 'Prince', 'Yes', 'Make', 'Oh', 'Hic', 'Ah', 'You', 'Is', 'Hic', 'Oh', 'No', 'Right', 'Where', 'We', 'No', 'Oh', 'Right', 'But', 'Father', 'Shut', 'And', 'And', 'Hic', 'Oh', 'Well', 'Concorde', 'Thank', 'Most', 'And', 'Over', 'Good', 'Steady', 'And', 'Uuh', 'Come', 'Concorde', 'Message', 'Concorde', 'Concorde', 'Speak', 'To', 'Please', 'Tall', 'Tower', 'Swamp', 'Castle', 'At', 'This', 'Holy', 'Grail', 'Brave', 'Concorde', 'Uh', 'Well', 'Oh', 'Actually', 'No', 'Concorde', 'Stay', 'Idiom', 'Idiom', 'No', 'Farewell', 'Concorde', 'Shall', 'Yeah', 'Morning', 'Morning', 'Oooh', 'Ha', 'Hiyya', 'Hey', 'Hiyya', 'Ha', 'Ha', 'Huy', 'Uuh', 'Aaah', 'Ha', 'And', 'Aah', 'Hiyah', 'Aah', 'Aaah', 'Hyy', 'Hya', 'Hiyya', 'Ha', 'Now', 'Sir', 'Launcelot', 'Camelot', 'Oh', 'You', 'Uh', 'You', 'Uh', 'You', 'Well', 'Stop', 'Stop', 'Stop', 'Stop', 'Who', 'No', 'Uh', 'Sir', 'Launcelot', 'He', 'Father', 'Well', 'Did', 'Uh', 'Oh', 'Sorry', 'They', 'Well', 'Um', 'Don', 'Sir', 'Launcelot', 'You', 'Well', 'Hurry', 'Sir', 'Launcelot', 'Hurry', 'Shut', 'You', 'Well', 'Didn', 'You', 'Oh', 'Is', 'You', 'This', 'Well', 'Camelot', 'Camelot', 'Are', 'Camelot', 'Hurry', 'Sir', 'Launcelot', 'Uh', 'Knight', 'King', 'Arthur', 'Very', 'Camelot', 'Uh', 'Is', 'Hurry', 'Would', 'Well', 'Um', 'Oooh', 'Oh', 'Oooh', 'Well', 'We', 'There', 'Oh', 'Ha', 'Hey', 'Ha', 'Hold', 'Stop', 'Hold', 'Hold', 'Hold', 'Hold', 'Hold', 'Please', 'Sorry', 'Sorry', 'You', 'Sorry', 'Sorry', 'He', 'Hold', 'Hold', 'Please', 'Hold', 'This', 'Sir', 'Launcelot', 'Court', 'Camelot', 'Hello', 'He', 'Please', 'Please', 'This', 'Let', 'We', 'Unfortunately', 'Herbert', 'Oh', 'Oh', 'But', 'For', 'He', 'Since', 'He', 'For', 'Uugh', 'Oh', 'And', 'And', 'Princess', 'Sir', 'Launcelot', 'Camelot', 'What', 'Look', 'The', 'Prince', 'Oooh', 'The', 'Prince', 'He', 'No', 'You', 'Tall', 'Tower', 'No', 'How', 'Well', 'Not', 'Not', 'No', 'Stop', 'He', 'He', 'Shut', 'He', 'Shut', 'He', 'Shut', 'He', 'Not', 'He', 'He', 'He', 'He', 'Quickly', 'He', 'Come', 'He', 'He', 'No', 'It', 'He', 'Oh', 'Dramatically', 'Dramatically', 'But', 'Heee', 'Hoa', 'Hoo', 'What', 'Excuse', 'Could', 'King', 'Arthur', 'Old', 'Is', 'Who', 'The', 'Knights', 'Who', 'Say', 'Ni', 'Aggh', 'No', 'Never', 'We', 'If', 'Agh', 'Do', 'Very', 'If', 'No', 'Never', 'No', 'Ni', 'Nu', 'No', 'Nu', 'No', 'Nu', 'No', 'You', 'No', 'Ni', 'Ni', 'That', 'That', 'You', 'Ni', 'Ohh', 'Ni', 'Ni', 'Agh', 'Ni', 'Ni', 'Ni', 'Ni', 'Ni', 'Are', 'Erm', 'Oh', 'There', 'Nothing', 'Even', 'Did', 'Yes', 'Shrubberies', 'My', 'Roger', 'Shrubber', 'Ni', 'No', 'No', 'No', 'Knights', 'Ni', 'May', 'It', 'But', 'What', 'We', 'Knights', 'Who', 'Say', 'Ni', 'Ni', 'Shh', 'Shh', 'We', 'Knights', 'Who', 'Say', 'Ecky', 'Ni', 'Therefore', 'What', 'Knights', 'Knights', 'Who', 'Til', 'Recently', 'Said', 'Ni', 'Firstly', 'Not', 'Ni', 'Then', 'Ni', 'Shh', 'Ni', 'Ni', 'Ni', 'Shh', 'Shh', 'Then', 'We', 'Oh', 'Cut', 'It', 'Aaaugh', 'Aaaugh', 'Augh', 'Ohh', 'Don', 'What', 'Knights', 'Ni', 'How', 'Aaaaugh', 'You', 'What', 'Agh', 'No', 'No', 'You', 'No', 'Not', 'My', 'Sir', 'Robin', 'Packing', 'And', 'And', 'Yes', 'Sir', 'Robin', 'My', 'It', 'Now', 'Surely', 'Holy', 'Grail', 'He', 'Shut', 'No', 'No', 'Far', 'He', 'Aaaaugh', 'Aaaaugh', 'Uh', 'No', 'Aaaaugh', 'Aaaaugh', 'Stop', 'The', 'Oh', 'Ow', 'He', 'Patsy', 'Wait', 'Ooh', 'And', 'That', 'Ohh', 'Aaaaugh', 'And', 'Arthur', 'Bedevere', 'Sir', 'Robin', 'Beyond', 'Launcelot', 'Galahad', 'Yay', 'Yay', 'In', 'Nador', 'Robin', 'Get', 'Eee', 'And', 'Yay', 'Winter', 'Spring', 'Mmm', 'Spring', 'Summer', 'Oh', 'Ahh', 'Summer', 'Winter', 'Oh', 'And', 'Winter', 'Spring', 'Summer', 'Autumn', 'Aah', 'Oh', 'Waa', 'Until', 'King', 'Arthur', 'Eh', 'Oh', 'See', 'Oh', 'Oh', 'Knights', 'Forward', 'What', 'By', 'There', 'Tim', 'Greetings', 'Tim', 'Enchanter', 'Greetings', 'King', 'Arthur', 'You', 'You', 'Holy', 'Grail', 'That', 'You', 'Tim', 'Quite', 'Oh', 'Yes', 'Holy', 'Grail', 'Our', 'Holy', 'Grail', 'Yeah', 'Yes', 'It', 'It', 'Yeah', 'Yup', 'Yup', 'Hm', 'And', 'Yes', 'Yeah', 'We', 'We', 'We', 'Ages', 'Umhm', 'Uh', 'Look', 'Fine', 'Um', 'Yes', 'Yes', 'Yup', 'That', 'Yes', 'Oh', 'Oh', 'Thank', 'Ahh', 'Oh', 'Fine', 'Thank', 'Splendid', 'Aah', 'Look', 'Yes', 'Holy', 'Grail', 'Oh', 'Oh', 'To', 'Caerbannog', 'Olfin', 'Bedwere', 'Rheged', 'Holy', 'Grail', 'Where', 'Tim', 'Follow', 'But', 'Follow', 'Bones', 'So', 'What', 'They', 'Then', 'Dis', 'Behold', 'Caerbannog', 'Right', 'Keep', 'What', 'Too', 'What', 'There', 'Where', 'There', 'What', 'It', 'You', 'What', 'You', 'Well', 'Ohh', 'That', 'You', 'Look', 'Get', 'He', 'Oh', 'You', 'What', 'He', 'Go', 'Bors', 'Chop', 'Right', 'Silly', 'One', 'Look', 'Aaaugh', 'Jesus', 'Christ', 'Oh', 'Oh', 'Well', 'Oh', 'Do', 'Right', 'Oh', 'Charge', 'Aaaaugh', 'Aaaugh', 'Run', 'Run', 'Run', 'Run', 'Ha', 'Ha', 'Ha', 'Ha', 'Right', 'How', 'Gawain', 'Ector', 'And', 'Bors', 'That', 'Three', 'Three', 'Three', 'And', 'That', 'Would', 'Oh', 'Let', 'It', 'Like', 'Well', 'Have', 'No', 'We', 'Holy', 'Hand', 'Grenade', 'Yes', 'The', 'Holy', 'Hand', 'Grenade', 'Antioch', 'Tis', 'Brother', 'Maynard', 'Brother', 'Maynard', 'Bring', 'Holy', 'Hand', 'Grenade', 'Pie', 'Iesu', 'Pie', 'Iesu', 'Pie', 'Iesu', 'Pie', 'Iesu', 'How', 'Consult', 'Book', 'Armaments', 'Armaments', 'Chapter', 'Two', 'Nine', 'Twenty', 'And', 'Saint', 'Attila', 'Lord', 'And', 'Lord', 'Skip', 'Brother', 'And', 'Lord', 'First', 'Holy', 'Pin', 'Then', 'Three', 'Four', 'Five', 'Once', 'Holy', 'Hand', 'Grenade', 'Antioch', 'Amen', 'Amen', 'Right', 'One', 'Three', 'Three', 'There', 'Look', 'What', 'What', 'Brother', 'Maynard', 'You', 'It', 'Aramaic', 'Of', 'Joseph', 'Arimathea', 'Course', 'What', 'It', 'Here', 'Joseph', 'Arimathea', 'He', 'Holy', 'Grail', 'Castle', 'What', 'Castle', 'What', 'He', 'Oh', 'Well', 'Look', 'He', 'Well', 'Perhaps', 'Oh', 'Well', 'No', 'Just', 'Aauuggghhh', 'Aaauggh', 'Do', 'Camaaaaaargue', 'Where', 'France', 'Isn', 'Saint', 'Aauuuves', 'Cornwall', 'No', 'Saint', 'Ives', 'Oh', 'Saint', 'Iiiives', 'Iiiiives', 'Oooohoohohooo', 'No', 'Aauuuuugh', 'Aauuugh', 'No', 'Oooooooh', 'Oh', 'Yes', 'Oooh', 'My', 'God', 'It', 'Black', 'Beast', 'Aaauugh', 'Black', 'Beast', 'Aaauugh', 'That', 'That', 'Run', 'Run', 'Run', 'Run', 'Run', 'Keep', 'Shh', 'Shh', 'Shh', 'Shh', 'Shh', 'Shh', 'Shh', 'Shh', 'We', 'Aagh', 'As', 'Black', 'Beast', 'Arthur', 'Ulk', 'The', 'The', 'Holy', 'Grail', 'There', 'The', 'Bridge', 'Death', 'Oh', 'Look', 'There', 'What', 'He', 'Bridge', 'Death', 'He', 'Three', 'Three', 'He', 'Three', 'Three', 'What', 'Then', 'Gorge', 'Eternal', 'Peril', 'Oh', 'Who', 'Sir', 'Robin', 'Yes', 'Brave', 'Sir', 'Robin', 'Hey', 'Why', 'Launcelot', 'Yes', 'Let', 'No', 'No', 'Hang', 'Hang', 'Hang', 'Just', 'Three', 'Three', 'And', 'Good', 'Sir', 'Launcelot', 'God', 'Stop', 'Who', 'Bridge', 'Death', 'Ask', 'What', 'My', 'Sir', 'Launcelot', 'Camelot', 'What', 'To', 'Holy', 'Grail', 'What', 'Blue', 'Right', 'Off', 'Oh', 'Thank', 'That', 'Stop', 'Who', 'Bridge', 'Death', 'Ask', 'What', 'Sir', 'Robin', 'Camelot', 'What', 'To', 'Holy', 'Grail', 'What', 'Assyria', 'Auuuuuuuugh', 'Stop', 'What', 'Sir', 'Galahad', 'Camelot', 'What', 'Grail', 'What', 'Blue', 'No', 'Hee', 'Stop', 'What', 'It', 'Arthur', 'King', 'Britons', 'What', 'To', 'Holy', 'Grail', 'What', 'What', 'An', 'African', 'European', 'Huh', 'Auuuuuuuugh', 'How', 'Well', 'Launcelot', 'Launcelot', 'Launcelot', 'Launcelot', 'Launcelot', 'Launcelot', 'Launcelot', 'Launcelot', 'Launcelot', 'The', 'Castle', 'Aaagh', 'Our', 'God', 'Almighty', 'God', 'Thee', 'Thou', 'Jesus', 'Christ', 'Allo', 'English', 'Monsieur', 'Arthur', 'King', 'So', 'French', 'How', 'Knights', 'Camelot', 'God', 'Himself', 'How', 'English', 'So', 'French', 'In', 'Lord', 'No', 'English', 'If', 'In', 'God', 'Agh', 'Right', 'That', 'Yes', 'Ha', 'Walk', 'Just', 'And', 'And', 'English', 'Thpppt', 'We', 'Yes', 'Stand', 'French', 'Dappy', 'Today', 'In', 'God', 'Hoo', 'Ohh', 'Holy', 'Grail', 'God', 'Ha', 'Charge', 'Hooray', 'Yes', 'They', 'Come', 'Anybody', 'All', 'Come', 'Back', 'Get', 'Back', 'Right', 'Just', 'Come', 'Come', 'Put', 'Clear', 'Come', 'With', 'Which', 'Oh', 'Come', 'Put', 'Get', 'We', 'Ahh', 'Ooh', 'Come', 'Back', 'Riiight', 'Come', 'Run', 'Run', 'Pull', 'My', 'Come', 'Back', 'Back', 'Right', 'Come', 'Everything', 'All', 'That', 'Just', 'Christ']\n"
     ]
    }
   ],
   "source": [
    "print(containing_capitalize)"
   ]
  },
  {
   "cell_type": "code",
   "execution_count": null,
   "metadata": {},
   "outputs": [],
   "source": []
  },
  {
   "cell_type": "markdown",
   "metadata": {},
   "source": [
    "#### Questão 25\n",
    "##### Define sent to be the list of words ['she', 'sells', 'sea', 'shells', 'by', 'the', 'sea', 'shore']. Now write code to perform the following tasks:\n"
   ]
  },
  {
   "cell_type": "code",
   "execution_count": 63,
   "metadata": {},
   "outputs": [],
   "source": [
    "sent = ['she', 'sells', 'sea', 'shells', 'by', 'the', 'sea', 'shore']"
   ]
  },
  {
   "cell_type": "code",
   "execution_count": 66,
   "metadata": {},
   "outputs": [
    {
     "name": "stdout",
     "output_type": "stream",
     "text": [
      "she\n",
      "shells\n",
      "shore\n"
     ]
    }
   ],
   "source": [
    "for word in sent:\n",
    "    if word.startswith('sh'):\n",
    "        print(word)"
   ]
  },
  {
   "cell_type": "code",
   "execution_count": 67,
   "metadata": {},
   "outputs": [
    {
     "name": "stdout",
     "output_type": "stream",
     "text": [
      "sells\n",
      "shells\n",
      "shore\n"
     ]
    }
   ],
   "source": [
    "for word in sent:\n",
    "    if len(word) > 4:\n",
    "        print(word)"
   ]
  },
  {
   "cell_type": "code",
   "execution_count": null,
   "metadata": {},
   "outputs": [],
   "source": []
  },
  {
   "cell_type": "markdown",
   "metadata": {},
   "source": [
    "#### Questão 26\n",
    "##### What does the following Python code do? sum(len(w) for w in text1) Can you use it to work out the average word length of a text?"
   ]
  },
  {
   "cell_type": "code",
   "execution_count": 68,
   "metadata": {},
   "outputs": [
    {
     "data": {
      "text/plain": [
       "999044"
      ]
     },
     "execution_count": 68,
     "metadata": {},
     "output_type": "execute_result"
    }
   ],
   "source": [
    "sum(len(w) for w in text1)"
   ]
  },
  {
   "cell_type": "code",
   "execution_count": null,
   "metadata": {},
   "outputs": [],
   "source": []
  },
  {
   "cell_type": "markdown",
   "metadata": {},
   "source": [
    "#### Questão 27\n",
    "##### Define a function called vocab_size(text) that has a single parameter for the text, and which returns the vocabulary size of the text."
   ]
  },
  {
   "cell_type": "code",
   "execution_count": 69,
   "metadata": {},
   "outputs": [],
   "source": [
    "def vocab_size(texto):\n",
    "    return len(texto)"
   ]
  },
  {
   "cell_type": "code",
   "execution_count": 70,
   "metadata": {},
   "outputs": [
    {
     "name": "stdout",
     "output_type": "stream",
     "text": [
      "260819\n"
     ]
    }
   ],
   "source": [
    "print(vocab_size(text1))"
   ]
  },
  {
   "cell_type": "code",
   "execution_count": null,
   "metadata": {},
   "outputs": [],
   "source": []
  },
  {
   "cell_type": "markdown",
   "metadata": {},
   "source": [
    "#### Questão 28\n",
    "##### Define a function percent(word, text) that calculates how often a given word occurs in a text, and expresses the result as a percentage."
   ]
  },
  {
   "cell_type": "code",
   "execution_count": 71,
   "metadata": {},
   "outputs": [],
   "source": [
    "def percent(word, text):\n",
    "    return 100*(text.count(word)/len(text))"
   ]
  },
  {
   "cell_type": "code",
   "execution_count": 72,
   "metadata": {},
   "outputs": [
    {
     "name": "stdout",
     "output_type": "stream",
     "text": [
      "A porcentagem e 0.649875967625058%\n"
     ]
    }
   ],
   "source": [
    "print(f'A porcentagem e {percent(\"is\", text1)}%')"
   ]
  },
  {
   "cell_type": "code",
   "execution_count": null,
   "metadata": {},
   "outputs": [],
   "source": []
  },
  {
   "cell_type": "markdown",
   "metadata": {},
   "source": [
    "#### Questão 29\n",
    "##### We have been using sets to store vocabularies. Try the following Python expression: set(sent3) < set(text1). Experiment with this using different arguments to set(). What does it do? Can you think of a practical application for this?"
   ]
  },
  {
   "cell_type": "code",
   "execution_count": 73,
   "metadata": {},
   "outputs": [],
   "source": [
    "sent3 = [\"is\", \"a\", \"the\"]"
   ]
  },
  {
   "cell_type": "code",
   "execution_count": 74,
   "metadata": {},
   "outputs": [],
   "source": [
    "conjuntos = set(sent3) < set(text1)"
   ]
  },
  {
   "cell_type": "code",
   "execution_count": 76,
   "metadata": {},
   "outputs": [
    {
     "data": {
      "text/plain": [
       "True"
      ]
     },
     "execution_count": 76,
     "metadata": {},
     "output_type": "execute_result"
    }
   ],
   "source": [
    "conjuntos"
   ]
  },
  {
   "cell_type": "code",
   "execution_count": null,
   "metadata": {},
   "outputs": [],
   "source": []
  },
  {
   "cell_type": "markdown",
   "metadata": {},
   "source": [
    "## Capitulo 2"
   ]
  },
  {
   "cell_type": "markdown",
   "metadata": {},
   "source": [
    "#### Questão 4\n",
    "##### Read in the texts of the State of the Union addresses, using the state_union corpus reader. Count occurrences of men, women, and people in each document. What has happened to the usage of these words over time?"
   ]
  },
  {
   "cell_type": "code",
   "execution_count": 82,
   "metadata": {},
   "outputs": [],
   "source": [
    "cfd = nltk.ConditionalFreqDist(\n",
    "  (target, fileid[:4])\n",
    "  for fileid in nltk.corpus.state_union.fileids()\n",
    "  for w in nltk.corpus.state_union.words(fileid)\n",
    "  for target in ['men', 'women', 'people']\n",
    "  if w.lower().startswith(target))"
   ]
  },
  {
   "cell_type": "code",
   "execution_count": 83,
   "metadata": {},
   "outputs": [
    {
     "data": {
      "image/png": "[encoded data removed]",
      "text/plain": [
       "<Figure size 432x288 with 1 Axes>"
      ]
     },
     "metadata": {
      "needs_background": "light"
     },
     "output_type": "display_data"
    },
    {
     "data": {
      "text/plain": [
       "<AxesSubplot:xlabel='Samples', ylabel='Counts'>"
      ]
     },
     "execution_count": 83,
     "metadata": {},
     "output_type": "execute_result"
    }
   ],
   "source": [
    "cfd.plot()"
   ]
  },
  {
   "cell_type": "code",
   "execution_count": null,
   "metadata": {},
   "outputs": [],
   "source": []
  },
  {
   "cell_type": "markdown",
   "metadata": {},
   "source": [
    "#### Questão 5\n",
    "##### Investigate the holonym-meronym relations for some nouns. Remember that there are three kinds of holonym-meronym relation, so you need to use: member_meronyms(), part_meronyms(), substance_meronyms(), member_holonyms(), part_holonyms(), and substance_holonyms()."
   ]
  },
  {
   "cell_type": "code",
   "execution_count": 86,
   "metadata": {},
   "outputs": [],
   "source": [
    "from nltk.corpus import wordnet as wn"
   ]
  },
  {
   "cell_type": "code",
   "execution_count": 87,
   "metadata": {},
   "outputs": [
    {
     "name": "stdout",
     "output_type": "stream",
     "text": [
      "[Synset('entity.n.01'), Synset('physical_entity.n.01'), Synset('matter.n.03')]\n",
      "[Synset('glacier.n.01'), Synset('ice_cube.n.01')]\n",
      "[Synset('water.n.01')]\n"
     ]
    }
   ],
   "source": [
    "lava = wn.synsets('lava')[0]\n",
    "ice = wn.synsets('ice')[0]\n",
    "print(lava.common_hypernyms(ice))\n",
    "print(ice.substance_holonyms())\n",
    "print(ice.substance_meronyms())"
   ]
  },
  {
   "cell_type": "code",
   "execution_count": null,
   "metadata": {},
   "outputs": [],
   "source": []
  },
  {
   "cell_type": "markdown",
   "metadata": {},
   "source": [
    "#### Questão 8\n",
    "##### Define a conditional frequency distribution over the Names corpus that allows you to see which initial letters are more frequent for males vs. females (cf. 4.4)."
   ]
  },
  {
   "cell_type": "code",
   "execution_count": 88,
   "metadata": {},
   "outputs": [
    {
     "name": "stdout",
     "output_type": "stream",
     "text": [
      "             A   B   C   D   E   F   G   H   I   J   K   L   M   N   O   P   Q   R   S   T   U   V   W   X   Y   Z \n",
      "female.txt 443 246 469 308 251 144 213 124  83 293 276 332 484 158  66 121   9 247 309 198  14 105  54   5  18  31 \n",
      "  male.txt 213 173 166 146 119  87 156 163  45 144  70 113 200  77  52 101  15 200 238 188  22  50 151   7  16  31 \n"
     ]
    }
   ],
   "source": [
    "files_names = [\"female.txt\", 'male.txt']\n",
    "dates = [(file, word[0]) for file in files_names for word in nltk.corpus.names.words(file)]\n",
    "\n",
    "distribution = nltk.ConditionalFreqDist(dates)\n",
    "distribution.tabulate() "
   ]
  },
  {
   "cell_type": "markdown",
   "metadata": {},
   "source": [
    "#### Questão 9\n",
    "##### Pick a pair of texts and study the differences between them, in terms of vocabulary, vocabulary richness, genre, etc. Can you find pairs of words which have quite different meanings across the two texts, such as monstrous in Moby Dick and in Sense and Sensibility ?"
   ]
  },
  {
   "cell_type": "code",
   "execution_count": 89,
   "metadata": {},
   "outputs": [
    {
     "name": "stdout",
     "output_type": "stream",
     "text": [
      "------------------ TEXT2 ----------------------\n",
      "20.719449729255086\n",
      "141576\n",
      "6833\n",
      "------------------ TEXT3 ----------------------\n",
      "16.050197203298673\n",
      "44764\n",
      "2789\n"
     ]
    }
   ],
   "source": [
    "from nltk.book import text2, text3\n",
    "\n",
    "def diversidade_lexica(text):\n",
    "    return len(text)/len(set(text))\n",
    "\n",
    "def contagem_de_palavras(text):\n",
    "    return len(text)\n",
    "\n",
    "def tamanho_vocabulario(text):\n",
    "    return len(set(text))\n",
    "\n",
    "\n",
    "print(\"------------------ TEXT2 ----------------------\")\n",
    "\n",
    "print(diversidade_lexica(text2))\n",
    "print(contagem_de_palavras(text2))\n",
    "print(tamanho_vocabulario(text2))\n",
    "print(\"------------------ TEXT3 ----------------------\")\n",
    "print(diversidade_lexica(text3))\n",
    "print(contagem_de_palavras(text3))\n",
    "print(tamanho_vocabulario(text3))\n"
   ]
  },
  {
   "cell_type": "code",
   "execution_count": null,
   "metadata": {},
   "outputs": [],
   "source": []
  },
  {
   "cell_type": "markdown",
   "metadata": {},
   "source": [
    "Questão 17"
   ]
  },
  {
   "cell_type": "code",
   "execution_count": 90,
   "metadata": {},
   "outputs": [
    {
     "name": "stdout",
     "output_type": "stream",
     "text": [
      "im\n",
      "left\n",
      "gay\n",
      "name\n",
      ":P\n",
      "PART\n",
      "hey\n",
      "everyone\n",
      "ah\n",
      "well\n",
      "NICK\n",
      ":\n",
      "U7\n",
      ".\n",
      "ACTION\n",
      "gives\n",
      "U121\n",
      "golf\n",
      "clap\n",
      ":)\n",
      "JOIN\n",
      "hi\n",
      "U59\n",
      "26\n",
      "/\n",
      "ky\n",
      "women\n",
      "nice\n",
      "please\n",
      "pm\n",
      "ya\n",
      "go\n",
      "n't\n",
      "fuck\n",
      ":@\n",
      "whats\n",
      "?\n",
      "'ll\n",
      "thunder\n",
      "ass\n",
      "dont\n",
      "even\n",
      "know\n",
      "means\n",
      "sounds\n",
      "painful\n",
      "ladis\n",
      "wanna\n",
      "chat\n",
      "29\n"
     ]
    }
   ],
   "source": [
    "import nltk\n",
    "from nltk.book import text5\n",
    "from nltk.probability import FreqDist\n",
    "\n",
    "\n",
    "def freq_non_stopwords(text):\n",
    "\tstopwords = nltk.corpus.stopwords.words('english')\n",
    "\tclean_list = [w for w in text if w.lower() not in stopwords]\n",
    "\tfreqdist = FreqDist(clean_list)\n",
    "\treturn list(freqdist.keys())\n",
    "\n",
    "p = freq_non_stopwords(text5)[:50]\n",
    "for word in p:\n",
    "    print(word)"
   ]
  },
  {
   "cell_type": "code",
   "execution_count": null,
   "metadata": {},
   "outputs": [],
   "source": []
  },
  {
   "cell_type": "markdown",
   "metadata": {},
   "source": [
    "Questão 18"
   ]
  },
  {
   "cell_type": "code",
   "execution_count": 91,
   "metadata": {},
   "outputs": [
    {
     "name": "stdout",
     "output_type": "stream",
     "text": [
      "[('', 'sigh'), ('sigh', 'Heyyy'), ('Heyyy', 'space'), ('space', 'tummy'), ('tummy', 'Eastern'), ('Eastern', 'footprints'), ('footprints', 'dunno'), ('dunno', 'profile'), ('profile', '(.'), ('(.', 'wont'), ('wont', 'harder'), ('harder', 'babe'), ('babe', 'feat'), ('feat', '*drools*'), ('*drools*', 'byb'), ('byb', 'rooms'), ('rooms', 'fascination'), ('fascination', 'reading'), ('reading', 'exit'), ('exit', 'heya'), ('heya', 'forever'), ('forever', 'hmmmmmmmm'), ('hmmmmmmmm', 'hurry'), ('hurry', 'macho'), ('macho', 'lovelies'), ('lovelies', 'meredith'), ('meredith', 'tory'), ('tory', 'mmhmm'), ('mmhmm', 'pweeze'), ('pweeze', 'converse'), ('converse', 'cleared'), ('cleared', 'RUN'), ('RUN', 'Hiya'), ('Hiya', 'Jam'), ('Jam', 'U520'), ('U520', 'night'), ('night', 'park'), ('park', '*WOW*'), ('*WOW*', 'eh'), ('eh', '((((((((((((((((((((((((('), ('(((((((((((((((((((((((((', 'whiteys'), ('whiteys', 'hearin'), ('hearin', 'fix'), ('fix', '1.99'), ('1.99', 'fantastical'), ('fantastical', 'babblein'), ('babblein', 'face'), ('face', 'enuf'), ('enuf', 'chococake'), ('chococake', 'used')]\n"
     ]
    }
   ],
   "source": [
    "import nltk\n",
    "from nltk.book import text5\n",
    "from nltk.util import bigrams\n",
    "from nltk.probability import FreqDist\n",
    "\n",
    "stopwords = nltk.corpus.stopwords.words('english')\n",
    "words = set()\n",
    "\n",
    "for w in text5:\n",
    "    if w.lower() not in stopwords:\n",
    "        words.add(w)\n",
    "\n",
    "freqdist = FreqDist(words)\n",
    "\n",
    "bigramas = list(bigrams(list(freqdist)))\n",
    "\n",
    "print(bigramas[:50])"
   ]
  },
  {
   "cell_type": "code",
   "execution_count": null,
   "metadata": {},
   "outputs": [],
   "source": []
  },
  {
   "cell_type": "markdown",
   "metadata": {},
   "source": [
    "Questão 18"
   ]
  },
  {
   "cell_type": "code",
   "execution_count": 93,
   "metadata": {},
   "outputs": [
    {
     "name": "stdout",
     "output_type": "stream",
     "text": [
      "[('', 'sigh'), ('sigh', 'Heyyy'), ('Heyyy', 'space'), ('space', 'tummy'), ('tummy', 'Eastern'), ('Eastern', 'footprints'), ('footprints', 'dunno'), ('dunno', 'profile'), ('profile', '(.'), ('(.', 'wont'), ('wont', 'harder'), ('harder', 'babe'), ('babe', 'feat'), ('feat', '*drools*'), ('*drools*', 'byb'), ('byb', 'rooms'), ('rooms', 'fascination'), ('fascination', 'reading'), ('reading', 'exit'), ('exit', 'heya'), ('heya', 'forever'), ('forever', 'hmmmmmmmm'), ('hmmmmmmmm', 'hurry'), ('hurry', 'macho'), ('macho', 'lovelies'), ('lovelies', 'meredith'), ('meredith', 'tory'), ('tory', 'mmhmm'), ('mmhmm', 'pweeze'), ('pweeze', 'converse'), ('converse', 'cleared'), ('cleared', 'RUN'), ('RUN', 'Hiya'), ('Hiya', 'Jam'), ('Jam', 'U520'), ('U520', 'night'), ('night', 'park'), ('park', '*WOW*'), ('*WOW*', 'eh'), ('eh', '((((((((((((((((((((((((('), ('(((((((((((((((((((((((((', 'whiteys'), ('whiteys', 'hearin'), ('hearin', 'fix'), ('fix', '1.99'), ('1.99', 'fantastical'), ('fantastical', 'babblein'), ('babblein', 'face'), ('face', 'enuf'), ('enuf', 'chococake'), ('chococake', 'used')]\n"
     ]
    }
   ],
   "source": [
    "import nltk\n",
    "from nltk.book import text5\n",
    "from nltk.util import bigrams\n",
    "from nltk.probability import FreqDist\n",
    "\n",
    "stopwords = nltk.corpus.stopwords.words('english')\n",
    "words = set()\n",
    "\n",
    "for w in text5:\n",
    "    if w.lower() not in stopwords:\n",
    "        words.add(w)\n",
    "\n",
    "freqdist = FreqDist(words)\n",
    "\n",
    "bigramas = list(bigrams(list(freqdist)))\n",
    "\n",
    "print(bigramas[:50])"
   ]
  },
  {
   "cell_type": "code",
   "execution_count": null,
   "metadata": {},
   "outputs": [],
   "source": []
  },
  {
   "cell_type": "markdown",
   "metadata": {},
   "source": [
    "Questão 23a"
   ]
  },
  {
   "cell_type": "code",
   "execution_count": 94,
   "metadata": {},
   "outputs": [
    {
     "data": {
      "image/png": "[encoded data removed]",
      "text/plain": [
       "<Figure size 432x288 with 1 Axes>"
      ]
     },
     "metadata": {
      "needs_background": "light"
     },
     "output_type": "display_data"
    }
   ],
   "source": [
    "import nltk, pylab, matplotlib, random\n",
    "from nltk.book import text1\n",
    "from decimal import *\n",
    "\n",
    "def freq_rank(text):\n",
    "    fdist = nltk.FreqDist([w.lower() for w in text])\n",
    "    keys = fdist.keys()\n",
    "    freq = []\n",
    "    rank = []\n",
    "    n = 1 # must start at 1 because log10(0) = infinity\n",
    "\n",
    "    for w in keys:\n",
    "        frequency = Decimal.logb(Decimal(fdist[w]))\n",
    "        freq.append(frequency)\n",
    "\n",
    "    for w in keys:\n",
    "        rank.append(Decimal.logb(Decimal(n)))\n",
    "        n = n + 1\n",
    "\n",
    "    pylab.plot(rank, freq)\n",
    "    return pylab.show()\n",
    "\n",
    "\n",
    "freq_rank(text1)"
   ]
  },
  {
   "cell_type": "code",
   "execution_count": null,
   "metadata": {},
   "outputs": [],
   "source": []
  },
  {
   "cell_type": "markdown",
   "metadata": {},
   "source": [
    "Questão 25"
   ]
  },
  {
   "cell_type": "code",
   "execution_count": 95,
   "metadata": {},
   "outputs": [
    {
     "name": "stdout",
     "output_type": "stream",
     "text": [
      "[]\n"
     ]
    }
   ],
   "source": [
    "import nltk\n",
    "from nltk.corpus import udhr\n",
    "\n",
    "# Define a function find_language() that takes a string as its argument, and returns a list of languages that have that string as a word. Use the udhr corpus and limit your searches to files in the Latin-1 encoding.\n",
    "\n",
    "def find_language(string):\n",
    "    languages = []\n",
    "    target_languages = []\n",
    "\n",
    "    for name in nltk.corpus.udhr.fileids():\n",
    "        if 'Latin1' in name:\n",
    "            languages.append(name)\n",
    "\n",
    "    for lang in languages:\n",
    "        if string in nltk.corpus.udhr.words(lang):\n",
    "            target_languages.append(lang)\n",
    "\n",
    "    return target_languages\n",
    "\n",
    "print(find_language(\"car\"))"
   ]
  },
  {
   "cell_type": "code",
   "execution_count": null,
   "metadata": {},
   "outputs": [],
   "source": []
  }
 ],
 "metadata": {
  "kernelspec": {
   "display_name": "Python 3",
   "language": "python",
   "name": "python3"
  },
  "language_info": {
   "codemirror_mode": {
    "name": "ipython",
    "version": 3
   },
   "file_extension": ".py",
   "mimetype": "text/x-python",
   "name": "python",
   "nbconvert_exporter": "python",
   "pygments_lexer": "ipython3",
   "version": "3.8.5"
  }
 },
 "nbformat": 4,
 "nbformat_minor": 4
}
